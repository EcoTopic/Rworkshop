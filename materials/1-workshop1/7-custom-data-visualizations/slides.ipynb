{
  "cells": [
    {
      "cell_type": "raw",
      "metadata": {},
      "source": [
        "---\n",
        "title: \"Customizing data visualizations using `colorspace`, `ggplot2`, and `patchwork`\"\n",
        "subtitle: \"<em>remixed from <a href='https://github.com/wilkelab/SDS375'>Claus O. Wilke's SDS375 course</a></em>\"\n",
        "format: qmdrslides-revealjs\n",
        "editor_options: \n",
        "  chunk_output_type: inline\n",
        "---"
      ],
      "id": "93116b80"
    },
    {
      "cell_type": "markdown",
      "metadata": {},
      "source": [
        "```{rE}\n",
        "#| echo: FALSE\n",
        "\n",
        "\n",
        "\n",
        "options(htmltools.dir.version = FALSE)\n",
        "knitr::opts_chunk$set(comment = \"\")\n",
        "\n",
        "library(tidyverse)\n",
        "library(cowplot)\n",
        "library(ggthemes)\n",
        "library(colorspace)\n",
        "library(ggrepel)\n",
        "library(here)\n",
        "\n",
        "## ggplot2 settings so plots scale well for slide size \n",
        "theme_set(theme_gray(14)) # 16 for full width, 18 for half width \n",
        "update_geom_defaults(\"point\", list(size = 2)) # 2 for full width, 2.5 for half width\n",
        "```"
      ],
      "id": "3a1fc2b0"
    }
  ],
  "metadata": {
    "kernelspec": {
      "display_name": "Python 3",
      "language": "python",
      "name": "python3"
    }
  },
  "nbformat": 4,
  "nbformat_minor": 5
}